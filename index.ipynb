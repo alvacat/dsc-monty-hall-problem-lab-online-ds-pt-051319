{
 "cells": [
  {
   "cell_type": "markdown",
   "metadata": {},
   "source": [
    "# The Monty Hall Problem\n",
    "\n",
    "## Introduction\n",
    "\n",
    "The Monty Hall problem is a famous little puzzle from a game show. It goes like this: you are presented with 3 doors. Behind two are goats and behind the third is a car. You are asked to select a door; if you select the door with the car, you win! After selecting, the host then opens one of the remaining two doors, revealing a goat. The host then asks if you would like to switch doors or stick with your original choice. What would you do? Does it matter?\n",
    "\n",
    "<img src=\"images/Image_58_MontyHall.png\">\n",
    "\n",
    "## Objectives\n",
    "\n",
    "You will be able to:\n",
    "* Solve the monty hall problem using simulations"
   ]
  },
  {
   "cell_type": "markdown",
   "metadata": {},
   "source": [
    "## Run a Simulation\n",
    "\n",
    "This is not a traditional application of Bayes' Theorem, so trying to formulate the problem as such is tricky at best. That said, the scenario does capture the motivating conception behind Bayesian statistics: updating our beliefs in the face of additional evidence. With this, you'll employ another frequently used tool of Bayesian's&mdash;running a simulation. To do this, generate a random integer between one and three to represent the door hiding the car. Then, generate a second integer between one and three representing the player's selection. Then, of those the contestant did not choose, select a door concealing a goat to reveal. Record the results of the simulated game if they changed versus if they did not. Repeat this process a thousand (or more) times. Finally, plot the results of your simulation as a line graph. The x-axis should be the number of simulations, and the y-axis should be the probability of winning. (There should be two lines on the graph, one for switching doors, and the other for keeping the original selection.)"
   ]
  },
  {
   "cell_type": "code",
   "execution_count": 41,
   "metadata": {
    "scrolled": true
   },
   "outputs": [],
   "source": [
    "#Your code here\n",
    "import numpy as np\n",
    "import pandas as pd\n",
    "import matplotlib.pyplot as plt\n",
    "\n",
    "\n",
    "simulations=list(range(50,10000,25))\n",
    "staying_results=[]\n",
    "switching_results=[]\n",
    "\n",
    "for simulation in simulations:\n",
    "    win_count=0\n",
    "    switch_and_win=0\n",
    "    stay_and_win=0\n",
    "    \n",
    "    i=0\n",
    "    while i<=simulation:\n",
    "        winning_door=np.random.randint(1,4)\n",
    "        goat_doors=[x for x in [1,2,3] if x !=winning_door]\n",
    "        chosen_door=np.random.randint(1,4)\n",
    "        \n",
    "        unchosen_goat_doors=[x for x in goat_doors if x!=chosen_door]\n",
    "\n",
    "        opened_door=np.random.choice(unchosen_goat_doors)\n",
    "        closed_doors=[x for x in [1,2,3] if x!=opened_door]\n",
    "        switch=np.random.randint(0,2)\n",
    "\n",
    "        if switch==1:\n",
    "            new_choice=[x for x in closed_doors if x!=chosen_door]\n",
    "        else:\n",
    "            new_choice=[chosen_door]\n",
    "            \n",
    "        if winning_door==new_choice[0]:\n",
    "            if switch==1:\n",
    "                switch_and_win+=1\n",
    "                win_count+=1\n",
    "            elif switch==0:\n",
    "                stay_and_win+=1\n",
    "                win_count+=1\n",
    "        else:\n",
    "            pass\n",
    "        \n",
    "        i+=1\n",
    "        \n",
    "    staying_results.append(stay_and_win/win_count)\n",
    "    switching_results.append(switch_and_win/win_count)"
   ]
  },
  {
   "cell_type": "code",
   "execution_count": 42,
   "metadata": {
    "scrolled": true
   },
   "outputs": [
    {
     "data": {
      "text/plain": [
       "<matplotlib.legend.Legend at 0x1b15bfa8ac8>"
      ]
     },
     "execution_count": 42,
     "metadata": {},
     "output_type": "execute_result"
    },
    {
     "data": {
      "image/png": "[encoded data removed]",
      "text/plain": [
       "<Figure size 432x288 with 1 Axes>"
      ]
     },
     "metadata": {
      "needs_background": "light"
     },
     "output_type": "display_data"
    }
   ],
   "source": [
    "plt.plot(simulations,staying_results,color='blue',label='staying')\n",
    "plt.plot(simulations,switching_results,color='red',label='switching')\n",
    "plt.ylim(0,1)\n",
    "plt.legend()"
   ]
  },
  {
   "cell_type": "code",
   "execution_count": 43,
   "metadata": {},
   "outputs": [
    {
     "data": {
      "text/plain": [
       "(0.33418020669322746, 0.6658197933067727)"
      ]
     },
     "execution_count": 43,
     "metadata": {},
     "output_type": "execute_result"
    }
   ],
   "source": [
    "stay_win_avg=np.array(staying_results).mean()\n",
    "switch_win_avg=np.array(switching_results).mean()\n",
    "stay_win_avg,switch_win_avg"
   ]
  },
  {
   "cell_type": "markdown",
   "metadata": {},
   "source": [
    "## Summary\n",
    "\n",
    "In this lab you further investigated the idea of Bayes' Theorem and Bayesian statistics in general through the Monty Hall problem. Hopefully this was an entertaining little experience! "
   ]
  }
 ],
 "metadata": {
  "kernelspec": {
   "display_name": "Python 3",
   "language": "python",
   "name": "python3"
  },
  "language_info": {
   "codemirror_mode": {
    "name": "ipython",
    "version": 3
   },
   "file_extension": ".py",
   "mimetype": "text/x-python",
   "name": "python",
   "nbconvert_exporter": "python",
   "pygments_lexer": "ipython3",
   "version": "3.7.3"
  }
 },
 "nbformat": 4,
 "nbformat_minor": 2
}
